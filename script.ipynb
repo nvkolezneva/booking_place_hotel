{
 "cells": [
  {
   "cell_type": "code",
   "execution_count": 2,
   "metadata": {},
   "outputs": [],
   "source": [
    "import psycopg2\n",
    "import codecs\n",
    "from psycopg2.extensions import ISOLATION_LEVEL_AUTOCOMMIT"
   ]
  },
  {
   "attachments": {},
   "cell_type": "markdown",
   "metadata": {},
   "source": [
    "### Подключаемся к базе данных"
   ]
  },
  {
   "cell_type": "code",
   "execution_count": 3,
   "metadata": {},
   "outputs": [],
   "source": [
    "connection = psycopg2.connect(user=\"postgres\", password=\"postgres\", host=\"127.0.0.1\", port=\"5432\")\n",
    "connection.set_isolation_level(ISOLATION_LEVEL_AUTOCOMMIT)\n",
    "    # Курсор для выполнения операций с базой данных\n",
    "cursor = connection.cursor()"
   ]
  },
  {
   "attachments": {},
   "cell_type": "markdown",
   "metadata": {},
   "source": [
    "### Создаем таблицы"
   ]
  },
  {
   "cell_type": "code",
   "execution_count": 93,
   "metadata": {},
   "outputs": [],
   "source": [
    "with open(\"create_tables.sql\", \"r\") as f:\n",
    "    sql_creat_table = f.read()\n",
    "cursor.execute(sql_creat_table)\n",
    "connection.commit()"
   ]
  },
  {
   "attachments": {},
   "cell_type": "markdown",
   "metadata": {},
   "source": [
    "### Заполним базу данных тестовыми значениями (если test=1)"
   ]
  },
  {
   "cell_type": "code",
   "execution_count": 94,
   "metadata": {},
   "outputs": [],
   "source": [
    "test = 1\n",
    "if test == 1:\n",
    "    with codecs.open(\"add_data.sql\", \"r\",\"utf_8_sig\") as f:\n",
    "        sql_creat_params = f.read()\n",
    "    cursor.execute(sql_creat_params)\n",
    "    connection.commit()"
   ]
  },
  {
   "attachments": {},
   "cell_type": "markdown",
   "metadata": {},
   "source": [
    "### Очистить все таблицы базы (если delete=1)"
   ]
  },
  {
   "cell_type": "code",
   "execution_count": 92,
   "metadata": {},
   "outputs": [],
   "source": [
    "delete = 0\n",
    "if delete == 1:\n",
    "    sql_commands = \"\"\"DROP TABLE Inventories, Study_Status,Study_Form,Residence_Status,Application_Statuses,Hostel,Furniture,Subjects,Employee_Roles,Employee,Verification,Rooms,Furniture_Room,Students,Rented_Inventory,Application_Placement,Progress,Students_Grades;\"\"\"\n",
    "    cursor.execute(sql_commands)\n",
    "    connection.commit()"
   ]
  },
  {
   "attachments": {},
   "cell_type": "markdown",
   "metadata": {},
   "source": [
    "### Функция и примеры для CRUD"
   ]
  },
  {
   "cell_type": "code",
   "execution_count": 7,
   "metadata": {},
   "outputs": [],
   "source": [
    "def sql_request(request):\n",
    "    cursor.execute(request)\n",
    "    connection.commit()\n",
    "    res = cursor.fetchall()\n",
    "    return res"
   ]
  },
  {
   "attachments": {},
   "cell_type": "markdown",
   "metadata": {},
   "source": [
    "Create"
   ]
  },
  {
   "cell_type": "code",
   "execution_count": 8,
   "metadata": {},
   "outputs": [],
   "source": [
    "sql_commands = \"\"\"\n",
    "INSERT INTO Students(fcs,gender,group_student,rating,id_room,id_study_status,id_study_form,id_residence_status) \n",
    "\tVALUES ('Глинко Анна Ивановна',1,'1023=4-ИТ',100,1,1,1,1);\n",
    "\"\"\"\n",
    "cursor.execute(sql_commands)\n",
    "connection.commit()"
   ]
  },
  {
   "cell_type": "code",
   "execution_count": 9,
   "metadata": {},
   "outputs": [
    {
     "data": {
      "text/plain": [
       "[(1, 'Сидоров Иван Сергеевич', 1, '1023-ИТ', 100, 1, 1, 1, 1),\n",
       " (3, 'Глинко Анна Ивановна', 1, '1023=4-ИТ', 100, 1, 1, 1, 1)]"
      ]
     },
     "execution_count": 9,
     "metadata": {},
     "output_type": "execute_result"
    }
   ],
   "source": [
    "sql_commands = \"\"\"\n",
    "SELECT *\n",
    "FROM Students\n",
    "\"\"\"\n",
    "sql_request(sql_commands)"
   ]
  },
  {
   "attachments": {},
   "cell_type": "markdown",
   "metadata": {},
   "source": [
    "Update"
   ]
  },
  {
   "cell_type": "code",
   "execution_count": 10,
   "metadata": {},
   "outputs": [],
   "source": [
    "sql_commands = \"\"\"\n",
    "UPDATE Students\n",
    "\tSET fcs='Сидоров Иван Сергеевич'\n",
    "\tWHERE id_student=1;\n",
    "\n",
    "\"\"\"\n",
    "cursor.execute(sql_commands)\n",
    "connection.commit()\n"
   ]
  },
  {
   "cell_type": "code",
   "execution_count": 11,
   "metadata": {},
   "outputs": [
    {
     "data": {
      "text/plain": [
       "[(3, 'Глинко Анна Ивановна', 1, '1023=4-ИТ', 100, 1, 1, 1, 1),\n",
       " (1, 'Сидоров Иван Сергеевич', 1, '1023-ИТ', 100, 1, 1, 1, 1)]"
      ]
     },
     "execution_count": 11,
     "metadata": {},
     "output_type": "execute_result"
    }
   ],
   "source": [
    "sql_commands = \"\"\"\n",
    "SELECT *\n",
    "FROM Students\n",
    "\"\"\"\n",
    "sql_request(sql_commands)"
   ]
  },
  {
   "attachments": {},
   "cell_type": "markdown",
   "metadata": {},
   "source": [
    "Delete"
   ]
  },
  {
   "cell_type": "code",
   "execution_count": 12,
   "metadata": {},
   "outputs": [],
   "source": [
    "sql_commands = \"\"\"\n",
    "DELETE FROM Students\n",
    "\tWHERE id_student = 2;\n",
    "\"\"\"\n",
    "cursor.execute(sql_commands)\n",
    "connection.commit()"
   ]
  },
  {
   "cell_type": "code",
   "execution_count": 13,
   "metadata": {},
   "outputs": [
    {
     "data": {
      "text/plain": [
       "[(3, 'Глинко Анна Ивановна', 1, '1023=4-ИТ', 100, 1, 1, 1, 1),\n",
       " (1, 'Сидоров Иван Сергеевич', 1, '1023-ИТ', 100, 1, 1, 1, 1)]"
      ]
     },
     "execution_count": 13,
     "metadata": {},
     "output_type": "execute_result"
    }
   ],
   "source": [
    "sql_commands = \"\"\"\n",
    "SELECT *\n",
    "FROM Students\n",
    "\"\"\"\n",
    "sql_request(sql_commands)"
   ]
  },
  {
   "attachments": {},
   "cell_type": "markdown",
   "metadata": {},
   "source": [
    "#### CRUD для роли \"Студент\"\n",
    "- Редактировать: данные о себе, данные о достижениях\n",
    "- Просматривать: данные о комнате проживания (адрес, инвентарь, мебель), рейтинг студентов\n",
    "- Добавлять: заявки на размещения в комнате, заявки на добавление достижения"
   ]
  },
  {
   "cell_type": "code",
   "execution_count": null,
   "metadata": {},
   "outputs": [],
   "source": [
    "sql_commands = \"\"\"\n",
    "UPDATE Students\n",
    "\tSET fcs='Сидоров Иван Сергеевич'\n",
    "\tWHERE id_student=1;\n",
    "\n",
    "\"\"\"\n",
    "cursor.execute(sql_commands)\n",
    "connection.commit()\n"
   ]
  },
  {
   "cell_type": "code",
   "execution_count": null,
   "metadata": {},
   "outputs": [
    {
     "data": {
      "text/plain": [
       "[(3, 'Глинко Анна Ивановна', 1, '1023=4-ИТ', 100, 1, 1, 1, 1),\n",
       " (1, 'Сидоров Иван Сергеевич', 1, '1023-ИТ', 100, 1, 1, 1, 1)]"
      ]
     },
     "metadata": {},
     "output_type": "display_data"
    }
   ],
   "source": [
    "sql_commands = \"\"\"\n",
    "SELECT *\n",
    "FROM Students\n",
    "\"\"\"\n",
    "sql_request(sql_commands)"
   ]
  },
  {
   "cell_type": "code",
   "execution_count": 98,
   "metadata": {},
   "outputs": [],
   "source": [
    "sql_commands = \"\"\"\n",
    "UPDATE Progress\n",
    "\tSET name_progress='Значки ГТО'\n",
    "\tWHERE id_student=1 AND id_progress=1;\n",
    "\n",
    "\"\"\"\n",
    "cursor.execute(sql_commands)\n",
    "connection.commit()"
   ]
  },
  {
   "cell_type": "code",
   "execution_count": null,
   "metadata": {},
   "outputs": [],
   "source": [
    "sql_commands = \"\"\"\n",
    "INSERT INTO Progress(name_progress,confirmation_progress,ratio,date_added,id_student) \n",
    "\tVALUES ('Значок ГТО',false,2,'23-10-2022',1);\n",
    "\"\"\"\n",
    "cursor.execute(sql_commands)\n",
    "connection.commit()"
   ]
  },
  {
   "cell_type": "code",
   "execution_count": null,
   "metadata": {},
   "outputs": [],
   "source": [
    "sql_commands = \"\"\"\n",
    "INSERT INTO Application_Placement(id_student,id_room,id_examiner,id_application_status) \n",
    "\tVALUES (1,1,1,1);\n",
    "\"\"\"\n",
    "cursor.execute(sql_commands)\n",
    "connection.commit()"
   ]
  },
  {
   "attachments": {},
   "cell_type": "markdown",
   "metadata": {},
   "source": [
    "#### CRUD для роли \"Администратор от университета\"\n",
    "- Редактировать: данные об общежитиях, заявки на размещения в комнате и добавления достижений, оценки студентов, данные о проверках\n",
    "- Просматривать: данные студентов, данные о комнатах (адрес, инвентарь, мебель). Соответвенно, все данные, которые может удалить/добавить/редактировать.\n",
    "- Добавлять: оценки студентов, данные о проверках, данные об общежитиях\n",
    "- Удалять: оценки студентов, данные о проверках, данные об общежитиях"
   ]
  },
  {
   "cell_type": "markdown",
   "metadata": {},
   "source": []
  },
  {
   "cell_type": "code",
   "execution_count": null,
   "metadata": {},
   "outputs": [],
   "source": [
    "sql_commands = \"\"\"\n",
    "INSERT INTO Students_Grades(grade,term,assessment_date,id_student,id_subject) \n",
    "\tVALUES (5,6,'23-10-2022',1,1);\n",
    "\"\"\"\n",
    "cursor.execute(sql_commands)\n",
    "connection.commit()"
   ]
  },
  {
   "cell_type": "code",
   "execution_count": null,
   "metadata": {},
   "outputs": [],
   "source": [
    "sql_commands = \"\"\"\n",
    "INSERT INTO Hostel(address_of_hostel,number_rooms) \n",
    "\tVALUES ('Москва, ул. Ленина, д.42, корпус 3',100);\n",
    "\"\"\"\n",
    "cursor.execute(sql_commands)\n",
    "connection.commit()"
   ]
  },
  {
   "cell_type": "code",
   "execution_count": null,
   "metadata": {},
   "outputs": [],
   "source": [
    "sql_commands = \"\"\"\n",
    "INSERT INTO Verification(date_verification,id_examiner) \n",
    "\tVALUES ('23-10-2022',1);\n",
    "\"\"\"\n",
    "cursor.execute(sql_commands)\n",
    "connection.commit()"
   ]
  },
  {
   "attachments": {},
   "cell_type": "markdown",
   "metadata": {},
   "source": [
    "#### CRUD для роли \"Сотрудник общежития\"\n",
    "- Редактировать: данные о комнатах в общежити (адрес, инвентарь, мебель)\n",
    "- Просматривать: данные об общежитиях, данные о проверках, данные о студентах, которые размещены в комнатах\n",
    "- Добавлять: данные о комнатах в общежити (адрес, инвентарь, мебель)\n",
    "- Удалять: данные о комнатах в общежити (адрес, инвентарь, мебель)"
   ]
  },
  {
   "cell_type": "code",
   "execution_count": null,
   "metadata": {},
   "outputs": [],
   "source": [
    "sql_commands = \"\"\"\n",
    "INSERT INTO Inventories(name_inventory) \n",
    "\tVALUES ('Матрас');\n",
    "INSERT INTO Furniture(name_furniture,date_purchase) \n",
    "\tVALUES ('Стул','23-10-2010');\n",
    "INSERT INTO Rooms(square,number_places,id_hostel,id_verification) \n",
    "\tVALUES (32,4,1,1);\n",
    "INSERT INTO Furniture_Room(installation_date,id_furniture,id_room) \n",
    "\tVALUES ('23-10-2022',1,1);\n",
    "\"\"\"\n",
    "cursor.execute(sql_commands)\n",
    "connection.commit()"
   ]
  },
  {
   "attachments": {},
   "cell_type": "markdown",
   "metadata": {},
   "source": [
    "### Where с обьединением трех таблиц"
   ]
  },
  {
   "attachments": {},
   "cell_type": "markdown",
   "metadata": {},
   "source": [
    "Номера общежитий и комнат, где есть стулья"
   ]
  },
  {
   "cell_type": "code",
   "execution_count": 14,
   "metadata": {},
   "outputs": [
    {
     "data": {
      "text/plain": [
       "[('Москва, ул. Ленина, д.42, корпус 3', 1, 'Стул')]"
      ]
     },
     "execution_count": 14,
     "metadata": {},
     "output_type": "execute_result"
    }
   ],
   "source": [
    "sql_commands = \"\"\"\n",
    "SELECT Hostel.address_of_hostel, Rooms.id_room, Furniture.name_furniture\n",
    "FROM Hostel, Rooms, Furniture_Room,Furniture\n",
    "WHERE Hostel.id_hostel = Rooms.id_hostel \n",
    "AND Rooms.id_room = Furniture_Room.id_room \n",
    "AND Furniture_Room.id_furniture_room IN (SELECT id_furniture_room FROM Furniture_Room WHERE id_furniture = 1)\n",
    "\"\"\"\n",
    "sql_request(sql_commands)"
   ]
  },
  {
   "attachments": {},
   "cell_type": "markdown",
   "metadata": {},
   "source": [
    "### Вложенный Select"
   ]
  },
  {
   "attachments": {},
   "cell_type": "markdown",
   "metadata": {},
   "source": [
    "Адреса общежитий, в комнатах которых есть свободные места"
   ]
  },
  {
   "cell_type": "code",
   "execution_count": 15,
   "metadata": {},
   "outputs": [
    {
     "data": {
      "text/plain": [
       "[(1, 'Москва, ул. Ленина, д.42, корпус 3')]"
      ]
     },
     "execution_count": 15,
     "metadata": {},
     "output_type": "execute_result"
    }
   ],
   "source": [
    "sql_commands = \"\"\"\n",
    "SELECT Hostel.id_hostel, Hostel.address_of_hostel\n",
    "FROM Hostel\n",
    "WHERE Hostel.id_hostel IN (\n",
    "    SELECT Rooms.id_room\n",
    "    FROM Rooms\n",
    "    WHERE Rooms.number_places >= 1)\n",
    "\"\"\"\n",
    "sql_request(sql_commands)"
   ]
  },
  {
   "attachments": {},
   "cell_type": "markdown",
   "metadata": {},
   "source": [
    " ФИО студентов, проживающих в комнате №4"
   ]
  },
  {
   "cell_type": "code",
   "execution_count": 16,
   "metadata": {},
   "outputs": [
    {
     "data": {
      "text/plain": [
       "[('Сидоров Иван Сергеевич',)]"
      ]
     },
     "execution_count": 16,
     "metadata": {},
     "output_type": "execute_result"
    }
   ],
   "source": [
    "sql_commands = \"\"\"\n",
    "SELECT Students.fcs\n",
    "FROM Students\n",
    "WHERE Students.id_student IN (\n",
    "    SELECT Rooms.id_room\n",
    "    FROM Rooms\n",
    "    WHERE Rooms.number_places = 4)\n",
    "\"\"\"\n",
    "sql_request(sql_commands)"
   ]
  },
  {
   "attachments": {},
   "cell_type": "markdown",
   "metadata": {},
   "source": [
    "### Join"
   ]
  },
  {
   "attachments": {},
   "cell_type": "markdown",
   "metadata": {},
   "source": [
    "ФИО всех заочников проживающих в общежитии"
   ]
  },
  {
   "cell_type": "code",
   "execution_count": 17,
   "metadata": {},
   "outputs": [
    {
     "data": {
      "text/plain": [
       "[('Сидоров Иван Сергеевич',), ('Глинко Анна Ивановна',)]"
      ]
     },
     "execution_count": 17,
     "metadata": {},
     "output_type": "execute_result"
    }
   ],
   "source": [
    "sql_commands = \"\"\"\n",
    "SELECT Students.fcs\n",
    "FROM Students, Study_Form\n",
    "JOIN Residence_Status ON Residence_Status.id_residence_status = 1 AND Study_Form.id_study_form = 1\n",
    "GROUP BY Students.fcs\n",
    "\"\"\"\n",
    "sql_request(sql_commands)"
   ]
  },
  {
   "attachments": {},
   "cell_type": "markdown",
   "metadata": {},
   "source": [
    "Номера общежитий и комнат, в которых есть столы, но нет стульев"
   ]
  },
  {
   "cell_type": "code",
   "execution_count": 18,
   "metadata": {},
   "outputs": [
    {
     "data": {
      "text/plain": [
       "[('Москва, ул. Ленина, д.42, корпус 3', 4)]"
      ]
     },
     "execution_count": 18,
     "metadata": {},
     "output_type": "execute_result"
    }
   ],
   "source": [
    "sql_commands = \"\"\"\n",
    "SELECT Hostel.address_of_hostel, Rooms.number_places\n",
    "FROM Hostel,Rooms\n",
    "JOIN Furniture_Room ON Furniture_Room.id_room = Rooms.id_room AND Furniture_Room.id_furniture=1 AND Furniture_Room.id_furniture!=2\n",
    "\"\"\"\n",
    "sql_request(sql_commands)"
   ]
  },
  {
   "attachments": {},
   "cell_type": "markdown",
   "metadata": {},
   "source": [
    "### Агрегация"
   ]
  },
  {
   "attachments": {},
   "cell_type": "markdown",
   "metadata": {},
   "source": [
    "Самый высокий средний балл студента"
   ]
  },
  {
   "cell_type": "code",
   "execution_count": 19,
   "metadata": {},
   "outputs": [
    {
     "data": {
      "text/plain": [
       "[(100,)]"
      ]
     },
     "execution_count": 19,
     "metadata": {},
     "output_type": "execute_result"
    }
   ],
   "source": [
    "sql_commands = \"\"\"\n",
    "SELECT MAX(rating) FROM Students;\n",
    "\"\"\"\n",
    "sql_request(sql_commands)"
   ]
  },
  {
   "attachments": {},
   "cell_type": "markdown",
   "metadata": {},
   "source": [
    "Средний оценка студента за экзамены"
   ]
  },
  {
   "cell_type": "code",
   "execution_count": 20,
   "metadata": {},
   "outputs": [
    {
     "data": {
      "text/plain": [
       "[(Decimal('5.0000000000000000'),)]"
      ]
     },
     "execution_count": 20,
     "metadata": {},
     "output_type": "execute_result"
    }
   ],
   "source": [
    "sql_commands = \"\"\"\n",
    "SELECT AVG(grade) FROM Students_Grades WHERE id_student=1;\"\"\"\n",
    "sql_request(sql_commands)"
   ]
  },
  {
   "attachments": {},
   "cell_type": "markdown",
   "metadata": {},
   "source": [
    "### Триггеры, процедуры"
   ]
  },
  {
   "attachments": {},
   "cell_type": "markdown",
   "metadata": {},
   "source": [
    "Изменение рейтинга студента при добавлении достижений"
   ]
  },
  {
   "cell_type": "code",
   "execution_count": 95,
   "metadata": {},
   "outputs": [],
   "source": [
    "sql_commands_trigger = \"\"\"\n",
    "CREATE OR REPLACE FUNCTION progress_insert_trigger_fnc()\n",
    "  RETURNS trigger AS\n",
    "$$\n",
    "BEGIN\n",
    " UPDATE Students\n",
    "\tSET rating=rating*NEW.ratio\n",
    "\tWHERE id_student=NEW.id_student; \n",
    "RETURN NEW;\n",
    "END;\n",
    "$$\n",
    "LANGUAGE 'plpgsql';\n",
    "CREATE TRIGGER progress_insert_trigger\n",
    "  AFTER INSERT\n",
    "  ON Progress\n",
    "  FOR EACH ROW\n",
    "  EXECUTE PROCEDURE progress_insert_trigger_fnc();\n",
    "\n",
    "\"\"\"\n",
    "cursor.execute(sql_commands_trigger)\n",
    "connection.commit()"
   ]
  },
  {
   "cell_type": "code",
   "execution_count": null,
   "metadata": {},
   "outputs": [],
   "source": [
    "sql_commands = \"\"\"\n",
    "INSERT INTO Progress(name_progress,confirmation_progress,ratio,date_added,id_student) \n",
    "\tVALUES ('Значок ГТО',false,2,'23-10-2022',1);\n",
    "\"\"\"\n",
    "sql_request(sql_commands)"
   ]
  },
  {
   "cell_type": "code",
   "execution_count": 97,
   "metadata": {},
   "outputs": [
    {
     "data": {
      "text/plain": [
       "[(1, 'Петров Иван Сергеевич', 1, '1023-ИТ', 200, 1, 1, 1, 1)]"
      ]
     },
     "execution_count": 97,
     "metadata": {},
     "output_type": "execute_result"
    }
   ],
   "source": [
    "sql_commands = \"\"\"\n",
    "SELECT *\n",
    "From Students\n",
    "\"\"\"\n",
    "sql_request(sql_commands)"
   ]
  },
  {
   "cell_type": "code",
   "execution_count": null,
   "metadata": {},
   "outputs": [],
   "source": [
    "cursor.close()\n",
    "connection.close()"
   ]
  }
 ],
 "metadata": {
  "kernelspec": {
   "display_name": "Python 3",
   "language": "python",
   "name": "python3"
  },
  "language_info": {
   "codemirror_mode": {
    "name": "ipython",
    "version": 3
   },
   "file_extension": ".py",
   "mimetype": "text/x-python",
   "name": "python",
   "nbconvert_exporter": "python",
   "pygments_lexer": "ipython3",
   "version": "3.9.5"
  },
  "orig_nbformat": 4,
  "vscode": {
   "interpreter": {
    "hash": "11938c6bc6919ae2720b4d5011047913343b08a43b18698fd82dedb0d4417594"
   }
  }
 },
 "nbformat": 4,
 "nbformat_minor": 2
}
